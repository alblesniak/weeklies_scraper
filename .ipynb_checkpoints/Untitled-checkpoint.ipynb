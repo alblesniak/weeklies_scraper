{
 "cells": [
  {
   "cell_type": "code",
   "execution_count": 1,
   "id": "8788982b",
   "metadata": {},
   "outputs": [],
   "source": [
    "import requests\n",
    "from lxml import html\n",
    "import re\n",
    "from bs4 import BeautifulSoup\n",
    "from selenium.webdriver.common.by import By\n",
    "from selenium.webdriver.support.ui import WebDriverWait\n",
    "from selenium.webdriver.support import expected_conditions as EC\n",
    "import undetected_chromedriver as uc\n",
    "import time"
   ]
  },
  {
   "cell_type": "code",
   "execution_count": 2,
   "id": "b3b8a62e",
   "metadata": {},
   "outputs": [],
   "source": [
    "username = \"neuron1712@gmail.com\"\n",
    "password = \"KVJJeGt71wFE\""
   ]
  },
  {
   "cell_type": "code",
   "execution_count": 3,
   "id": "3cd6533e",
   "metadata": {},
   "outputs": [],
   "source": [
    "start_url = 'https://accounts.google.com/o/oauth2/v2/auth/oauthchooseaccount?redirect_uri=https%3A%2F%2Fkonto.onet.pl%2Fnewapi%2Ffederation%2Fauth-google&state=eyJzdGF0ZSI6Ii9saXN0YS13eWRhbiIsImNsaWVudF9pZCI6Im5ld3N3ZWVrLnBsLm9rb250by5mcm9udC5vbmV0YXBpLnBsIiwicmVkaXJlY3RfdXJpIjoiaHR0cHM6Ly93d3cubmV3c3dlZWsucGwvcGF5d2FsbC9va29udG8vYXV0aCIsImJhY2tQYWdlUGF0aCI6InNpZ25pbiIsImxvY2FsZSI6InBsIiwicHJvdmlkZXIiOiJnb29nbGUuY29tIn0%3D&scope=email&client_id=426231693590-uhijhfb26n5t8pl01e7teje0sl6389ra.apps.googleusercontent.com&provider=google.com&response_type=code&service=lso&o2v=2&flowName=GeneralOAuthFlow'\n",
    "driver = uc.Chrome()\n",
    "driver.get(start_url)\n",
    "time.sleep(1)\n",
    "WebDriverWait(driver, 20).until(EC.visibility_of_element_located(\n",
    "    (By.NAME, 'identifier'))).send_keys(f'{username}\\n')\n",
    "time.sleep(1)\n",
    "WebDriverWait(driver, 20).until(EC.visibility_of_element_located(\n",
    "    (By.NAME, 'password'))).send_keys(f'{password}\\n')\n",
    "time.sleep(1)"
   ]
  },
  {
   "cell_type": "code",
   "execution_count": 4,
   "id": "6ab3e117",
   "metadata": {},
   "outputs": [
    {
     "ename": "IndexError",
     "evalue": "list index out of range",
     "output_type": "error",
     "traceback": [
      "\u001b[0;31m---------------------------------------------------------------------------\u001b[0m",
      "\u001b[0;31mIndexError\u001b[0m                                Traceback (most recent call last)",
      "Cell \u001b[0;32mIn [4], line 5\u001b[0m\n\u001b[1;32m      3\u001b[0m time\u001b[38;5;241m.\u001b[39msleep(\u001b[38;5;241m1\u001b[39m)\n\u001b[1;32m      4\u001b[0m root \u001b[38;5;241m=\u001b[39m html\u001b[38;5;241m.\u001b[39mfromstring(driver\u001b[38;5;241m.\u001b[39mpage_source)\n\u001b[0;32m----> 5\u001b[0m issue_name_number \u001b[38;5;241m=\u001b[39m \u001b[43mroot\u001b[49m\u001b[38;5;241;43m.\u001b[39;49m\u001b[43mxpath\u001b[49m\u001b[43m(\u001b[49m\u001b[38;5;124;43m'\u001b[39;49m\u001b[38;5;124;43m(//h2[@class=\u001b[39;49m\u001b[38;5;124;43m\"\u001b[39;49m\u001b[38;5;124;43mpwEditionList__title pwEditionList__title--standard\u001b[39;49m\u001b[38;5;124;43m\"\u001b[39;49m\u001b[38;5;124;43m]/text())[1]\u001b[39;49m\u001b[38;5;124;43m'\u001b[39;49m\u001b[43m)\u001b[49m\u001b[43m[\u001b[49m\u001b[38;5;241;43m0\u001b[39;49m\u001b[43m]\u001b[49m\u001b[38;5;241m.\u001b[39mstrip()\n\u001b[1;32m      6\u001b[0m match \u001b[38;5;241m=\u001b[39m re\u001b[38;5;241m.\u001b[39mmatch(\u001b[38;5;124mr\u001b[39m\u001b[38;5;124m'\u001b[39m\u001b[38;5;124m(.*) (\u001b[39m\u001b[38;5;124m\\\u001b[39m\u001b[38;5;124md\u001b[39m\u001b[38;5;124m{\u001b[39m\u001b[38;5;124m1,2})\u001b[39m\u001b[38;5;124m\\\u001b[39m\u001b[38;5;124m/(\u001b[39m\u001b[38;5;124m\\\u001b[39m\u001b[38;5;124md\u001b[39m\u001b[38;5;132;01m{4}\u001b[39;00m\u001b[38;5;124m)\u001b[39m\u001b[38;5;124m'\u001b[39m, issue_name_number)\n\u001b[1;32m      7\u001b[0m data_dict \u001b[38;5;241m=\u001b[39m {\n\u001b[1;32m      8\u001b[0m     \u001b[38;5;124m'\u001b[39m\u001b[38;5;124missue_name\u001b[39m\u001b[38;5;124m'\u001b[39m: match\u001b[38;5;241m.\u001b[39mgroup(\u001b[38;5;241m1\u001b[39m),\n\u001b[1;32m      9\u001b[0m     \u001b[38;5;124m'\u001b[39m\u001b[38;5;124missue_number\u001b[39m\u001b[38;5;124m'\u001b[39m: match\u001b[38;5;241m.\u001b[39mgroup(\u001b[38;5;241m2\u001b[39m),\n\u001b[1;32m     10\u001b[0m     \u001b[38;5;124m'\u001b[39m\u001b[38;5;124missue_year\u001b[39m\u001b[38;5;124m'\u001b[39m: match\u001b[38;5;241m.\u001b[39mgroup(\u001b[38;5;241m3\u001b[39m)\n\u001b[1;32m     11\u001b[0m }\n",
      "\u001b[0;31mIndexError\u001b[0m: list index out of range"
     ]
    }
   ],
   "source": [
    "page_url = 'https://www.newsweek.pl/polska/spoleczenstwo/nowy-numer-newsweek-wydanie-specjalne-12021-wywiady-spis-tresci/kyx1ykq'\n",
    "driver.get(page_url)\n",
    "time.sleep(1)\n",
    "root = html.fromstring(driver.page_source)\n",
    "issue_name_number = root.xpath('(//h2[@class=\"pwEditionList__title pwEditionList__title--standard\"]/text())[1]')[0].strip()\n",
    "match = re.match(r'(.*) (\\d{1,2})\\/(\\d{4})', issue_name_number)\n",
    "data_dict = {\n",
    "    'issue_name': match.group(1),\n",
    "    'issue_number': match.group(2),\n",
    "    'issue_year': match.group(3)\n",
    "}\n",
    "data_dict"
   ]
  },
  {
   "cell_type": "code",
   "execution_count": 6,
   "id": "c6656a1b",
   "metadata": {},
   "outputs": [],
   "source": [
    "page_url = 'https://www.newsweek.pl/polska/spoleczenstwo/nowy-numer-newsweek-wydanie-specjalne-12021-wywiady-spis-tresci/kyx1ykq'\n",
    "driver.get(page_url)"
   ]
  },
  {
   "cell_type": "code",
   "execution_count": 7,
   "id": "394c0a62",
   "metadata": {},
   "outputs": [],
   "source": [
    "root = html.fromstring(driver.page_source)"
   ]
  },
  {
   "cell_type": "code",
   "execution_count": 10,
   "id": "debfd4f0",
   "metadata": {},
   "outputs": [],
   "source": [
    "issue_name_number = root.xpath('(//h2[@class=\"pwEditionList__title pwEditionList__title--standard\"]/text())[1]')"
   ]
  },
  {
   "cell_type": "code",
   "execution_count": 11,
   "id": "415283fd",
   "metadata": {},
   "outputs": [
    {
     "data": {
      "text/plain": [
       "[]"
      ]
     },
     "execution_count": 11,
     "metadata": {},
     "output_type": "execute_result"
    }
   ],
   "source": [
    "issue_name_number"
   ]
  },
  {
   "cell_type": "code",
   "execution_count": null,
   "id": "53a08f8f",
   "metadata": {},
   "outputs": [],
   "source": [
    "try:\n",
    "    issue_name_number = root.xpath(\n",
    "        '(//h2[@class=\"pwEditionList__title pwEditionList__title--standard\"]/text())[1]')[0].strip()\n",
    "    match = re.match(r'(.*) (\\d{1,2})\\/(\\d{4})', issue_name_number)\n",
    "    data_dict = {\n",
    "        'issue_name': match.group(1),\n",
    "        'issue_number': match.group(2),\n",
    "        'issue_year': match.group(3),\n",
    "        'issue_url': response.url,\n",
    "        'issue_cover_url': root.xpath(\n",
    "            '//div[@class=\"pwEdition__current\"]//img/@data-original')\n",
    "    }\n",
    "except Exception as e:\n",
    "    if response.url == 'https://www.newsweek.pl/nwpl_2021_01_20210104':\n",
    "        data_dict = {\n",
    "            'issue_name': 'Newsweek Polska',\n",
    "            'issue_number': '1',\n",
    "            'issue_year': '2021',\n",
    "            'issue_url': response.url,\n",
    "            'issue_cover_url': root.xpath(\n",
    "                '//div[@class=\"pwEdition__current\"]//img/@data-original')\n",
    "        }\n",
    "    elif response.url == 'https://www.newsweek.pl/nwws_2021003_20211020':\n",
    "        data_dict = {\n",
    "            'issue_name': 'Newsweek Extra',\n",
    "            'issue_number': '3',\n",
    "            'issue_year': '2021',\n",
    "            'issue_url': response.url,\n",
    "            'issue_cover_url': root.xpath(\n",
    "                '//div[@class=\"pwEdition__current\"]//img/@data-original')\n",
    "        }\n",
    "    elif response.url == 'https://www.newsweek.pl/nwws_202003_20200819':\n",
    "        data_dict = {\n",
    "            'issue_name': 'Newsweek Extra',\n",
    "            'issue_number': '3',\n",
    "            'issue_year': '2020',\n",
    "            'issue_url': response.url,\n",
    "            'issue_cover_url': root.xpath(\n",
    "                '//div[@class=\"pwEdition__current\"]//img/@data-original')\n",
    "        }\n",
    "    elif response.url == 'https://www.newsweek.pl/nwws_202005_20201112':\n",
    "        data_dict = {\n",
    "            'issue_name': 'Newsweek Extra',\n",
    "            'issue_number': '5',\n",
    "            'issue_year': '2020',\n",
    "            'issue_url': response.url,\n",
    "            'issue_cover_url': root.xpath(\n",
    "                '//div[@class=\"pwEdition__current\"]//img/@data-original')\n",
    "        }\n",
    "    elif response.url == 'https://www.newsweek.pl/nwws_202004_20201021':\n",
    "        data_dict = {\n",
    "            'issue_name': 'Newsweek Extra',\n",
    "            'issue_number': '4',\n",
    "            'issue_year': '2020',\n",
    "            'issue_url': response.url,\n",
    "            'issue_cover_url': root.xpath(\n",
    "                '//div[@class=\"pwEdition__current\"]//img/@data-original')\n",
    "        }\n",
    "    elif response.url == 'https://www.newsweek.pl/nwpsyws_2022001_20220608':\n",
    "        data_dict = {\n",
    "            'issue_name': 'Newsweek Psychologia',\n",
    "            'issue_number': '1',\n",
    "            'issue_year': '2022',\n",
    "            'issue_url': response.url,\n",
    "            'issue_cover_url': root.xpath(\n",
    "                '//div[@class=\"pwEdition__current\"]//img/@data-original')\n",
    "        }\n",
    "    elif response.url == 'https://www.newsweek.pl/nwpsyws_2022002_20220831':\n",
    "        data_dict = {\n",
    "            'issue_name': 'Newsweek Psychologia',\n",
    "            'issue_number': '2',\n",
    "            'issue_year': '2022',\n",
    "            'issue_url': response.url,\n",
    "            'issue_cover_url': root.xpath(\n",
    "                '//div[@class=\"pwEdition__current\"]//img/@data-original')\n",
    "        }\n",
    "    elif response.url == 'https://www.newsweek.pl/nwws_2022003_20220928':\n",
    "        data_dict = {\n",
    "            'issue_name': 'Newsweek Extra',\n",
    "            'issue_number': '3',\n",
    "            'issue_year': '2022',\n",
    "            'issue_url': response.url,\n",
    "            'issue_cover_url': root.xpath(\n",
    "                '//div[@class=\"pwEdition__current\"]//img/@data-original')\n",
    "        }"
   ]
  },
  {
   "cell_type": "code",
   "execution_count": null,
   "id": "884e4ebe",
   "metadata": {},
   "outputs": [],
   "source": []
  },
  {
   "cell_type": "code",
   "execution_count": null,
   "id": "98386cb4",
   "metadata": {},
   "outputs": [],
   "source": []
  },
  {
   "cell_type": "code",
   "execution_count": null,
   "id": "154949ea",
   "metadata": {},
   "outputs": [],
   "source": []
  },
  {
   "cell_type": "raw",
   "id": "f68de1a3",
   "metadata": {},
   "source": [
    "div = soup.find(\"div\", class_=\"cg_article_meat\")\n",
    "div.get_text().strip()"
   ]
  },
  {
   "cell_type": "raw",
   "id": "4df74656",
   "metadata": {},
   "source": [
    "paragraphs = []\n",
    "for div in divs:\n",
    "    element = div.find(['p', 'h2'])\n",
    "    if element != None:\n",
    "        paragraphs.append(element.get_text().strip())\n",
    "#         span_element = p_element.find('span', class_=\"drop-cap-letter\")\n",
    "#         if span_element != None:\n",
    "#             p_text = p_element.get_text()\n",
    "#             print(p_text)\n",
    "#             span_text = span_element.get_text()\n",
    "#             print(span_text)\n",
    "# #             concatenated_text = span_text + p_text\n",
    "# #             paragraphs.append(concatenated_text.strip)\n",
    "# #         else:\n",
    "# #             paragraphs.append(p_element.get_text())\n",
    "# #     else:\n",
    "# #         continue"
   ]
  },
  {
   "cell_type": "code",
   "execution_count": null,
   "id": "72d395b9",
   "metadata": {},
   "outputs": [],
   "source": []
  },
  {
   "cell_type": "code",
   "execution_count": null,
   "id": "72815018",
   "metadata": {},
   "outputs": [],
   "source": []
  },
  {
   "cell_type": "code",
   "execution_count": null,
   "id": "1eed23ca",
   "metadata": {},
   "outputs": [],
   "source": []
  },
  {
   "cell_type": "code",
   "execution_count": null,
   "id": "314d6d2b",
   "metadata": {},
   "outputs": [],
   "source": []
  },
  {
   "cell_type": "code",
   "execution_count": null,
   "id": "2b964157",
   "metadata": {},
   "outputs": [],
   "source": []
  }
 ],
 "metadata": {
  "kernelspec": {
   "display_name": "Python 3 (ipykernel)",
   "language": "python",
   "name": "python3"
  },
  "language_info": {
   "codemirror_mode": {
    "name": "ipython",
    "version": 3
   },
   "file_extension": ".py",
   "mimetype": "text/x-python",
   "name": "python",
   "nbconvert_exporter": "python",
   "pygments_lexer": "ipython3",
   "version": "3.10.7"
  }
 },
 "nbformat": 4,
 "nbformat_minor": 5
}
